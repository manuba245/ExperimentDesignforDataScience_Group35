{
  "nbformat": 4,
  "nbformat_minor": 0,
  "metadata": {
    "colab": {
      "name": "EDDS.ipynb",
      "provenance": [],
      "collapsed_sections": []
    },
    "kernelspec": {
      "name": "python3",
      "display_name": "Python 3"
    },
    "language_info": {
      "name": "python"
    }
  },
  "cells": [
    {
      "cell_type": "code",
      "execution_count": 2,
      "metadata": {
        "id": "9s7oncdhC0QA"
      },
      "outputs": [],
      "source": [
        "aolQueries = []\n",
        "knowHowQueries = []\n",
        "wikiHowQueries = []"
      ]
    },
    {
      "cell_type": "code",
      "source": [
        "for i in range(1, 11):\n",
        "  if i < 10:\n",
        "    fileName = \"drive/MyDrive/EDDS/user-ct-test-collection-0\" + str(i) + \".txt\"\n",
        "  else:\n",
        "    fileName = \"drive/MyDrive/EDDS/user-ct-test-collection-\" + str(i) + \".txt\"\n",
        "\n",
        "  lines = []\n",
        "  with open(fileName) as f:\n",
        "    lines = f.readlines()\n",
        "\n",
        "  count = 0\n",
        "  for line in lines:\n",
        "    if count > 0:\n",
        "      query = line.split(\"\\t\")[1]\n",
        "      aolQueries.append(query)\n",
        "\n",
        "    count += 1"
      ],
      "metadata": {
        "id": "kgqVekCnEWu-"
      },
      "execution_count": 3,
      "outputs": []
    },
    {
      "cell_type": "code",
      "source": [
        "print(aolQueries[:100])"
      ],
      "metadata": {
        "colab": {
          "base_uri": "https://localhost:8080/"
        },
        "id": "W50vb3TQ4yDM",
        "outputId": "29a43186-26f4-4c9e-f869-07839bbbef60"
      },
      "execution_count": 4,
      "outputs": [
        {
          "output_type": "stream",
          "name": "stdout",
          "text": [
            "['rentdirect.com', 'www.prescriptionfortime.com', 'staple.com', 'staple.com', 'www.newyorklawyersite.com', 'www.newyorklawyersite.com', 'westchester.gov', 'space.comhttp', 'dfdf', 'dfdf', 'vaniqa.comh', 'www.collegeucla.edu', 'www.elaorg', '207 ad2d 530', '207 ad2d 530', 'broadway.vera.org', 'broadway.vera.org', 'vera.org', 'broadway.vera.org', 'frankmellace.com', 'ucs.ljx.com', 'attornyleslie.com', 'merit release appearance', 'www.bonsai.wbff.org', 'loislaw.com', 'rapny.com', 'whitepages.com', 'lottery', 'lottery', 'ameriprise.com', 'susheme', 'united.com', 'mizuno.com', \"p; .; p;' p; ' ;' ;';\", \"p; .; p;' p; ' ;' ;';\", 'asiansexygoddess.com', 'buddylis', 'bestasiancompany.com', 'lottery', 'lottery', 'ask.com', 'weather.com', 'wellsfargo.com', 'www.tabiecummings.com', 'wanttickets.com', 'yahoo.com', '-', 'www.ngo-quen.org', '-', 'vietnam', 'vietnam', 'vietnam', 'vietnam', 'vietnam', 'vietnam', '-', 'myspace.co', 'myspace.com', 'googl', 'chasebadkids.net', 'ozark horse blankets', 'www.ghostrockranch.com', 'openrangeht.zachsairforce.com', 'sstack.com', 'www.mecab.org', 'www.raindanceexpress.com', 'www.victoriacostumiere.com', 'osteen-schaztberg.com', 'osteen-schatzberg.com', 'osteen-schatzberg.com', 'www.buckmountianestates.com', 'idx.techsolsc.com', 'www.bridleandbit.com', 'gall stones', 'gallstones', 'http www.flickr.com photos 88145967 n00 24368586 in pool-32148876 n00', 'http www.flickr.com photos 88145967 n00 24368586 in pool-32148876 n00', 'href a href alt a http www.flickr.com photos 88145967 n00 24368586 in pool-32148876 n00', 'http www.flickr.com photos 88145967 n00 24368586 in pool-32148876 n00', 'www.acevedoarabians.com', 'adbuyer3.lycos.com', 'www.pinerplantation.com', 'www.pinerplantation.com', 'www.pinerplantation.com', 'files', 'www.kmcwheel.com', 'dellcomputers', 'www.ameicaneaglewheel.com', 'cascadefamilymedical', 'cascadefamilymedical.com', 'milaniwheel.com', 'www.ameicaneaglewheel.com', 'www.ameicaneaglewheel.com', 'pop up adds', 'pop up adds', 'the childs wonderland company', \"the child's wonderland company\", \"the child's wonderland company\", \"the child's wonderland company grand rapids michigan\", \"the child's wonderland company grand rapids michigan\"]\n"
          ]
        }
      ]
    },
    {
      "cell_type": "code",
      "source": [
        "aolTopSuffixes = {}\n",
        "aolTop2WordSuffixes = {}\n",
        "aolTop3WordSuffixes = {}\n",
        "\n",
        "for query in aolQueries:\n",
        "  words = query.split(\" \")\n",
        "  lastOne = words[-1]\n",
        "\n",
        "  if lastOne in aolTopSuffixes:\n",
        "    aolTopSuffixes[lastOne] += 1\n",
        "  else:\n",
        "    aolTopSuffixes[lastOne] = 1\n",
        "\n",
        "\n",
        "  if len(words) >= 2:\n",
        "    lastTwo = words[-2] + \" \" + words[-1]\n",
        "\n",
        "    if lastTwo in aolTop2WordSuffixes:\n",
        "      aolTop2WordSuffixes[lastTwo] += 1\n",
        "    else:\n",
        "      aolTop2WordSuffixes[lastTwo] = 1\n",
        "\n",
        "  if len(words) >= 3:\n",
        "    lastThree = words[-3] + \" \" + words[-2] + \" \" + words[-1]\n",
        "    \n",
        "    if lastThree in aolTop3WordSuffixes:\n",
        "      aolTop3WordSuffixes[lastThree] += 1\n",
        "    else:\n",
        "      aolTop3WordSuffixes[lastThree] = 1"
      ],
      "metadata": {
        "id": "hUBrX38niezX"
      },
      "execution_count": 5,
      "outputs": []
    },
    {
      "cell_type": "code",
      "source": [
        "print(list(aolTop3WordSuffixes.items())[:50])"
      ],
      "metadata": {
        "colab": {
          "base_uri": "https://localhost:8080/"
        },
        "id": "jkqMtblDOoMr",
        "outputId": "56131dac-0d9b-4a09-c313-bcb758abb388"
      },
      "execution_count": 11,
      "outputs": [
        {
          "output_type": "stream",
          "name": "stdout",
          "text": [
            "[('207 ad2d 530', 2), ('merit release appearance', 1), (\"' ;' ;';\", 2), ('ozark horse blankets', 1), ('in pool-32148876 n00', 4), ('pop up adds', 3), ('childs wonderland company', 2), (\"child's wonderland company\", 2), ('grand rapids michigan', 364), ('childs wonderland co.', 1), (\"child's wonderland co.\", 1), ('budget truck rental', 87), ('holiday mansion houseboat', 2), ('to the future', 188), ('jet blue airlines', 818), ('coats tire equipment', 4), ('select business services', 1), ('business services title', 1), ('estate settlement services', 6), ('and settlement services', 6), ('american lenders advantage', 1), ('first american chesapeake', 1), ('chesapeake title services', 1), ('united one resources', 1), ('plus solutions group', 3), ('search and abstract', 1), ('integrated real estate', 2), ('integrated loan services', 1), ('date of birth', 245), ('auto locator pennsylvania', 2), ('kentucky fried chicken', 168), ('fried chicken menu', 14), ('black orange rectangle', 1), ('wnmu home page', 3), ('http www.s.c.t.gob. mx.', 1), ('http www.s.c.t.gob. mx.roads', 1), ('dana reeves dies', 17), ('harry and david', 218), ('college savings plan', 22), (\"amc painter's crossing\", 1), ('torn cornea treatment', 2), ('engine light reset', 7), ('light pa emissions', 3), ('check engine light', 164), ('engine light walmart', 2), ('minerals make up', 16), ('amc painters crossing', 5), ('pergola house entrance', 2), ('irs publication 505', 1), ('us constitution center', 3)]\n"
          ]
        }
      ]
    },
    {
      "cell_type": "code",
      "source": [
        "aolTopSuffixesCombined = {**aolTop2WordSuffixes, **aolTop3WordSuffixes}\n",
        "\n",
        "aolTopSuffixesSorted = [*dict(sorted(aolTopSuffixesCombined.items(), key=lambda item: item[1]))]\n",
        "aolTopSuffixesSorted.reverse()\n",
        "\n",
        "#aolTop2WordSuffixesSorted = [*dict(sorted(aolTop2WordSuffixes.items(), key=lambda item: item[1]))]\n",
        "#aolTop2WordSuffixesSorted.reverse()\n",
        "\n",
        "#aolTop3WordSuffixesSorted = [*dict(sorted(aolTop3WordSuffixes.items(), key=lambda item: item[1]))]\n",
        "#aolTop3WordSuffixesSorted.reverse()"
      ],
      "metadata": {
        "id": "MB8V4P4ZP1IC"
      },
      "execution_count": 43,
      "outputs": []
    },
    {
      "cell_type": "code",
      "source": [
        "print(aolTopSuffixesSorted[:50])"
      ],
      "metadata": {
        "colab": {
          "base_uri": "https://localhost:8080/"
        },
        "id": "xnWUzAkqQIl2",
        "outputId": "fad9135e-8d51-4920-b4de-a2dda4f34bd5"
      },
      "execution_count": 40,
      "outputs": [
        {
          "output_type": "stream",
          "name": "stdout",
          "text": [
            "['-', 'google', 'com', 'ebay', 'yahoo', 'lyrics', 'pictures', '.com', 'yahoo.com', 'games', 'myspace', 'mapquest', 'sale', 'google.com', 'florida', 'myspace.com', 'for sale', 'pics', 'school', 'sex', 'news', 'airlines', 'texas', 'parts', 'photos', 'college', 'porn', 'bank', 'lottery', 'jobs', 'center', 'cards', 'pages', 'girls', 'recipes', 'furniture', 'ny', 'ohio', '2006', 'internet', 'music', 'www.yahoo.com', 'codes', 'america', 'york', 'www.google.com', 'weather', 'art', 'new york', 'california']\n"
          ]
        }
      ]
    },
    {
      "cell_type": "code",
      "source": [
        "def findTopNCompletions(topSuffixesSorted, query, n):\n",
        "  completions = []\n",
        "  nCompletions = 0\n",
        "\n",
        "  for suffix in topSuffixesSorted:\n",
        "    if suffix.startswith(query.split(\"_\")[-1]):\n",
        "      completions.append(query.rsplit(\"_\", 1)[0] + \"_\" + suffix.replace(\" \", \"_\"))\n",
        "      nCompletions += 1\n",
        "\n",
        "    if nCompletions >= n:\n",
        "      break\n",
        "\n",
        "  return completions"
      ],
      "metadata": {
        "id": "7VYkFBdQRWWE"
      },
      "execution_count": 47,
      "outputs": []
    },
    {
      "cell_type": "code",
      "source": [
        "print(findTopNCompletions(aolTopSuffixesSorted, \"getting_organized_at_work\", 20))"
      ],
      "metadata": {
        "colab": {
          "base_uri": "https://localhost:8080/"
        },
        "id": "iQaBUj1XTtcK",
        "outputId": "422c0d78-f23a-4228-da71-03c2cc0dca7c"
      },
      "execution_count": 49,
      "outputs": [
        {
          "output_type": "stream",
          "name": "stdout",
          "text": [
            "['getting_organized_at_work_from_home', 'getting_organized_at_work_at_home', 'getting_organized_at_workers_compensation', 'getting_organized_at_work_boots', 'getting_organized_at_work_place', 'getting_organized_at_workforce_commission', 'getting_organized_at_workforce_development', 'getting_organized_at_works_cited', 'getting_organized_at_work_force', 'getting_organized_at_work_sheets', 'getting_organized_at_working_from_home', 'getting_organized_at_work_day', 'getting_organized_at_workmans_comp', 'getting_organized_at_work_shoes', 'getting_organized_at_work_source', 'getting_organized_at_work_out', 'getting_organized_at_work_in_texas', 'getting_organized_at_workers_comp', 'getting_organized_at_work_environment', 'getting_organized_at_work_for']\n"
          ]
        }
      ]
    },
    {
      "cell_type": "code",
      "source": [
        "print(findTopNCompletions(aolTopSuffixesSorted, \"choose_bathroom\", 20))"
      ],
      "metadata": {
        "colab": {
          "base_uri": "https://localhost:8080/"
        },
        "id": "VtKZqCMBVMUX",
        "outputId": "d06f8987-6edc-4c10-f3c1-11720550be70"
      },
      "execution_count": 50,
      "outputs": [
        {
          "output_type": "stream",
          "name": "stdout",
          "text": [
            "['choose_bathroom_vanities', 'choose_bathroom_sinks', 'choose_bathroom_accessories', 'choose_bathroom_vanity', 'choose_bathroom_cabinets', 'choose_bathroom_design', 'choose_bathroom_fixtures', 'choose_bathroom_tile', 'choose_bathroom_rugs', 'choose_bathroom_designs', 'choose_bathroom_furniture', 'choose_bathroom_remodeling', 'choose_bathroom_faucets', 'choose_bathroom_remodel_pictures', 'choose_bathroom_mirrors', 'choose_bathroom_tiles', 'choose_bathroom_lighting', 'choose_bathroom_makeover', 'choose_bathroom_decorating', 'choose_bathroom_ideas']\n"
          ]
        }
      ]
    },
    {
      "cell_type": "code",
      "source": [
        "print(findTopNCompletions(aolTopSuffixesSorted, \"low_wedding_budget\", 20))"
      ],
      "metadata": {
        "colab": {
          "base_uri": "https://localhost:8080/"
        },
        "id": "qEe6lp6nViQ9",
        "outputId": "2b57326d-17ac-4f4d-b4d3-a9800b33c7e2"
      },
      "execution_count": 51,
      "outputs": [
        {
          "output_type": "stream",
          "name": "stdout",
          "text": [
            "['low_wedding_budget_car_rental', 'low_wedding_budget_rental_car', 'low_wedding_budget_rental', 'low_wedding_budget_rental_cars', 'low_wedding_budget_truck_rental', 'low_wedding_budget_worksheet', 'low_wedding_budget_car_rentals', 'low_wedding_budget_forms', 'low_wedding_budget_inn', 'low_wedding_budget_blinds', 'low_wedding_budget_cuts', 'low_wedding_budget_sheet', 'low_wedding_budget_car_sales', 'low_wedding_budget_travel', 'low_wedding_budget_planning', 'low_wedding_budget_decorating', 'low_wedding_budget_plan', 'low_wedding_budget_rentals', 'low_wedding_budget_suites', 'low_wedding_budget_rent_car']\n"
          ]
        }
      ]
    }
  ]
}