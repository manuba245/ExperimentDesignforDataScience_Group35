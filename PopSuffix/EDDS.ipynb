{
  "nbformat": 4,
  "nbformat_minor": 0,
  "metadata": {
    "colab": {
      "name": "EDDS.ipynb",
      "provenance": [],
      "collapsed_sections": []
    },
    "kernelspec": {
      "name": "python3",
      "display_name": "Python 3"
    },
    "language_info": {
      "name": "python"
    }
  },
  "cells": [
    {
      "cell_type": "markdown",
      "source": [
        "# Model creation"
      ],
      "metadata": {
        "id": "-hIEbKutz2B2"
      }
    },
    {
      "cell_type": "code",
      "source": [
        "aolQueries = []\n",
        "\n",
        "for i in range(1, 11):\n",
        "  if i < 10:\n",
        "    fileName = \"drive/MyDrive/EDDS/user-ct-test-collection-0\" + str(i) + \".txt\"\n",
        "  else:\n",
        "    fileName = \"drive/MyDrive/EDDS/user-ct-test-collection-\" + str(i) + \".txt\"\n",
        "\n",
        "  lines = []\n",
        "  with open(fileName) as f:\n",
        "    lines = f.readlines()\n",
        "\n",
        "  count = 0\n",
        "  for line in lines:\n",
        "    if count > 0:\n",
        "      query = line.split(\"\\t\")[1]\n",
        "      aolQueries.append(query)\n",
        "\n",
        "    count += 1"
      ],
      "metadata": {
        "id": "kgqVekCnEWu-"
      },
      "execution_count": null,
      "outputs": []
    },
    {
      "cell_type": "code",
      "source": [
        "aolTopSuffixes = {}\n",
        "aolTop2WordSuffixes = {}\n",
        "aolTop3WordSuffixes = {}\n",
        "\n",
        "for query in aolQueries:\n",
        "  words = query.split(\" \")\n",
        "  lastOne = words[-1]\n",
        "\n",
        "  if lastOne in aolTopSuffixes:\n",
        "    aolTopSuffixes[lastOne] += 1\n",
        "  else:\n",
        "    aolTopSuffixes[lastOne] = 1\n",
        "\n",
        "\n",
        "  if len(words) >= 2:\n",
        "    lastTwo = words[-2] + \" \" + words[-1]\n",
        "\n",
        "    if lastTwo in aolTop2WordSuffixes:\n",
        "      aolTop2WordSuffixes[lastTwo] += 1\n",
        "    else:\n",
        "      aolTop2WordSuffixes[lastTwo] = 1\n",
        "\n",
        "  if len(words) >= 3:\n",
        "    lastThree = words[-3] + \" \" + words[-2] + \" \" + words[-1]\n",
        "    \n",
        "    if lastThree in aolTop3WordSuffixes:\n",
        "      aolTop3WordSuffixes[lastThree] += 1\n",
        "    else:\n",
        "      aolTop3WordSuffixes[lastThree] = 1"
      ],
      "metadata": {
        "id": "hUBrX38niezX"
      },
      "execution_count": null,
      "outputs": []
    },
    {
      "cell_type": "code",
      "source": [
        "aolTopSuffixesCombined = {**aolTop2WordSuffixes, **aolTop3WordSuffixes}\n",
        "\n",
        "aolTopSuffixesSorted = [*dict(sorted(aolTopSuffixesCombined.items(), key=lambda item: item[1]))]\n",
        "aolTopSuffixesSorted.reverse()\n",
        "\n",
        "#aolTop2WordSuffixesSorted = [*dict(sorted(aolTop2WordSuffixes.items(), key=lambda item: item[1]))]\n",
        "#aolTop2WordSuffixesSorted.reverse()\n",
        "\n",
        "#aolTop3WordSuffixesSorted = [*dict(sorted(aolTop3WordSuffixes.items(), key=lambda item: item[1]))]\n",
        "#aolTop3WordSuffixesSorted.reverse()"
      ],
      "metadata": {
        "id": "MB8V4P4ZP1IC"
      },
      "execution_count": null,
      "outputs": []
    },
    {
      "cell_type": "code",
      "source": [
        "def findTopNCompletions(topSuffixesSorted, query, n):\n",
        "  completions = []\n",
        "  nCompletions = 0\n",
        "\n",
        "  for suffix in topSuffixesSorted:\n",
        "    if suffix.startswith(query.split(\"_\")[-1]):\n",
        "      completions.append(query.rsplit(\"_\", 1)[0] + \"_\" + suffix.replace(\" \", \"_\"))\n",
        "      nCompletions += 1\n",
        "\n",
        "    if nCompletions >= n:\n",
        "      break\n",
        "\n",
        "  return completions"
      ],
      "metadata": {
        "id": "7VYkFBdQRWWE"
      },
      "execution_count": null,
      "outputs": []
    },
    {
      "cell_type": "markdown",
      "source": [
        "# Evaluation\n"
      ],
      "metadata": {
        "id": "-aYZ6h3IzyKl"
      }
    },
    {
      "cell_type": "code",
      "source": [
        "q0List = []\n",
        "\n",
        "lines = []\n",
        "with open(\"/content/drive/MyDrive/EDDS/QAC-run-AOL\") as f:\n",
        "  lines = f.readlines()\n",
        "\n",
        "for line in lines:\n",
        "  lineParts = line.split(\"\\t\")\n",
        "  query = lineParts[0]\n",
        "  if query not in q0List:\n",
        "    q0List.append(query)"
      ],
      "metadata": {
        "id": "fd5tFm05zxPp"
      },
      "execution_count": null,
      "outputs": []
    },
    {
      "cell_type": "code",
      "source": [
        "with open(\"/content/drive/MyDrive/EDDS/PopSuffic-AOL-Results\", \"w\") as f:\n",
        "  for q0 in q0List:\n",
        "    completions = findTopNCompletions(aolTopSuffixesSorted, q0, 20)\n",
        "\n",
        "    rank = 1\n",
        "    for c in completions:\n",
        "      f.write(q0 + \"\\t\" + \"Q0\" + \"\\t\" + c + \"\\t\" + str(rank) + \"\\t\" + \"0\" + \"\\t\" + \"AOLPopSuffix\")\n",
        "      f.write('\\n')\n",
        "\n",
        "      rank += 1"
      ],
      "metadata": {
        "id": "WCOfG2_X9i45"
      },
      "execution_count": null,
      "outputs": []
    },
    {
      "cell_type": "markdown",
      "source": [
        "## Evaluation from ecir2018-neuqs repo"
      ],
      "metadata": {
        "id": "Fqwyf6BMCC3-"
      }
    },
    {
      "cell_type": "code",
      "source": [
        "from collections import defaultdict\n",
        "\n",
        "import numpy as np\n",
        "\n",
        "import sys\n",
        "\n",
        "\n",
        "\n",
        "\n",
        "\n",
        "def read_trec_gt(path):\n",
        "\n",
        "\t\"\"\" read Trec ground truth file to get a dictionary \n",
        "\n",
        "\t{q1:[s1, s2, ...], q2:[s, ...], ....}\n",
        "\n",
        "\twhere q is query, [s1, s2, ...] are relevant suggestions\n",
        "\n",
        "\t\"\"\"\n",
        "\n",
        "\trelevance_gt_dict = defaultdict(list)\n",
        "\n",
        "\twith open(path, \"r\", encoding=\"latin1\") as f:\n",
        "\n",
        "\t\tfor line in f:\n",
        "\n",
        "\t\t\tquery, _, suggestion, _, r, _ = line.strip().split(\"\\t\")\n",
        "\n",
        "\t\t\tif r == \"1\" or r == \"2\":\n",
        "\n",
        "\t\t\t\trelevance_gt_dict[query].append(suggestion)\n",
        "\n",
        "\treturn relevance_gt_dict\n",
        "\n",
        "\n",
        "\n",
        "\n",
        "\n",
        "def read_gt(path):\n",
        "\n",
        "\t\"\"\" read ground truth file to get a dictionary \n",
        "\n",
        "\t{q1:[s1, s2, ...], q2:[s, ...], ....}\n",
        "\n",
        "\twhere q is query, [s1, s2, ...] are relevant suggestions\n",
        "\n",
        "\t\"\"\"\n",
        "\n",
        "\trelevance_gt_dict = defaultdict(list)\n",
        "\n",
        "\twith open(path, \"r\", encoding=\"latin1\") as f:\n",
        "\n",
        "\t\tfor line in f:\n",
        "\n",
        "\t\t\tquery, _, suggestion, r = line.strip().split(\"\\t\")\n",
        "\n",
        "\t\t\tif r == \"1\":\n",
        "\n",
        "\t\t\t\trelevance_gt_dict[query].append(suggestion)\n",
        "\n",
        "\treturn relevance_gt_dict\n",
        "\n",
        "\n",
        "\n",
        "\n",
        "\n",
        "def read_run(path):\n",
        "\n",
        "\t\"\"\" read run file to get a dictionary \n",
        "\n",
        "\t{q1:[s1, s2, ...], q2:[s, ...], ....}\n",
        "\n",
        "\twhere q is query, [s1, s2, ...] are ranked suggestions\n",
        "\n",
        "\t\"\"\"\n",
        "\n",
        "\trun_dict = defaultdict(list)\n",
        "\n",
        "\twith open(path, \"r\", encoding=\"latin1\") as f:\n",
        "\n",
        "\t\tfor line in f:\n",
        "\n",
        "\t\t\tquery, _, suggestion, _, _, _ = line.strip().split(\"\\t\")\n",
        "\n",
        "\t\t\trun_dict[query].append(suggestion)\n",
        "\n",
        "\treturn run_dict\n",
        "\n",
        "\n",
        "\n",
        "\n",
        "\n",
        "def cal_precision_at_k(rel_suggestions, gen_suggestions, k):\n",
        "\n",
        "\t\"\"\"given relevant suggestions and candidate suggestions for a query,\n",
        "\n",
        "\tcalculate precision at k.\n",
        "\n",
        "\t\"\"\"\n",
        "\n",
        "\t# precisions a list of precisions, the ith element (precisions[i]) \n",
        "\n",
        "\t# is the precision at (i+1)-th position\n",
        "\n",
        "\t# rel_count counting the number of relevant candidate suggestions\n",
        "\n",
        "\tprecision, rel_count = 0, 0\n",
        "\n",
        "\tk_gen_suggestions = gen_suggestions[:k]\n",
        "\n",
        "\n",
        "\n",
        "\t# iter all candidate suggestions\n",
        "\n",
        "\tfor i in range(len(k_gen_suggestions)):\n",
        "\n",
        "\t\t# get current suggestion\n",
        "\n",
        "\t\tgen_s = k_gen_suggestions[i]\n",
        "\n",
        "\t\t# if current suggestion appear in relevant suggestions\n",
        "\n",
        "\t\tif gen_s in rel_suggestions:\n",
        "\n",
        "\t\t\t# relevant suggestion count +1\n",
        "\n",
        "\t\t\trel_count += 1.0\n",
        "\n",
        "\n",
        "\n",
        "\tprecision = rel_count/k\n",
        "\n",
        "\n",
        "\n",
        "\treturn precision\n",
        "\n",
        "\n",
        "\n",
        "\n",
        "\n",
        "def eval_run(run_dict, relevance_gt_dict, run_name, k):\n",
        "\n",
        "\t\"\"\" evaluate each run\n",
        "\n",
        "\t\n",
        "\n",
        "\t- run_dict, a dictionray {q1:[s1, s2, ...], q2:[s, ...], ....}\n",
        "\n",
        "\twhere q is query, [s1, s2, ...] are ranked suggestions\n",
        "\n",
        "\t\n",
        "\n",
        "\t- relevance_gt_dict, {q1:[s1, s2, ...], q2:[s, ...], ....}\n",
        "\n",
        "\twhere q is query, [s1, s2, ...] are relevant suggestions in groundtruth\n",
        "\n",
        "\t\n",
        "\n",
        "\t- run_name, name of this run\n",
        "\n",
        "\t\n",
        "\n",
        "\t- k, precision at position k\n",
        "\n",
        "\t\"\"\"\n",
        "\n",
        "\tp_list, lens = [], []\n",
        "\n",
        "\n",
        "\n",
        "\tfor query, results in run_dict.items():\n",
        "\n",
        "\t\t# evaluate the results of this query\n",
        "\n",
        "\t\tprecision = cal_precision_at_k(relevance_gt_dict[query], results, k)\n",
        "\n",
        "\t\tl = len(results)\n",
        "\n",
        "\t\t\n",
        "\n",
        "\t\tp_list.append(precision)\t\n",
        "\n",
        "\t\tlens.append(l)\n",
        "\n",
        "\tprint(\"P@\"+str(k)+\":\\t\"+str(np.sum(p_list)/100)+\"\\t\"+run_name)\n",
        "\n",
        "\t# print(\"P@\"+str(k)+\":\\t\"+str(np.sum(p_list)/100)+\"\\t\"+str(len(p_list))+\"\\t\"+run_name)\n",
        "\n",
        "\n"
      ],
      "metadata": {
        "id": "0QBcwd6ECKCw"
      },
      "execution_count": null,
      "outputs": []
    },
    {
      "cell_type": "code",
      "source": [
        "relevance_gt_dict = read_gt(path=\"/content/drive/MyDrive/EDDS/QAC_ground_truth.tsv\")\n",
        "run_dict = read_run(path=\"/content/drive/MyDrive/EDDS/PopSuffic-AOL-Results\")"
      ],
      "metadata": {
        "id": "3totHKq1FlPr"
      },
      "execution_count": null,
      "outputs": []
    },
    {
      "cell_type": "code",
      "source": [
        "k = 20\n",
        "eval_run(run_dict, relevance_gt_dict, \"PopSuffic-AOL-Results\", k)"
      ],
      "metadata": {
        "colab": {
          "base_uri": "https://localhost:8080/"
        },
        "id": "H50QfX9bCStW",
        "outputId": "eb4f48a9-0757-4285-d535-e52287ebaf7e"
      },
      "execution_count": null,
      "outputs": [
        {
          "output_type": "stream",
          "name": "stdout",
          "text": [
            "P@20:\t0.21150000000000002\tPopSuffic-AOL-Results\n"
          ]
        }
      ]
    },
    {
      "cell_type": "code",
      "source": [
        "k = 10\n",
        "eval_run(run_dict, relevance_gt_dict, \"PopSuffic-AOL-Results\", k)"
      ],
      "metadata": {
        "colab": {
          "base_uri": "https://localhost:8080/"
        },
        "id": "Zx9p2AlSErP5",
        "outputId": "dedd4f11-3cc9-4550-e705-dd263d600feb"
      },
      "execution_count": null,
      "outputs": [
        {
          "output_type": "stream",
          "name": "stdout",
          "text": [
            "P@10:\t0.255\tPopSuffic-AOL-Results\n"
          ]
        }
      ]
    }
  ]
}